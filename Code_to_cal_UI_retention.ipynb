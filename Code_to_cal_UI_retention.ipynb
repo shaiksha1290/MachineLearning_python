{
 "cells": [
  {
   "cell_type": "code",
   "execution_count": 84,
   "metadata": {
    "collapsed": true
   },
   "outputs": [],
   "source": [
    "import os.path\n",
    "import pandas as pd\n",
    "import numpy as np\n",
    "from datetime import timedelta\n",
    "\n",
    "class UI_Retention :\n",
    "    \n",
    "    def __init__(self, path):\n",
    "        if os.path.isfile(path) :\n",
    "            self.path = path\n",
    "            self.cust_data = pd.DataFrame()\n",
    "        else :\n",
    "            sys.exit(\"Incorrect path\")\n",
    "    \n",
    "    def Read_CSV(self) :\n",
    "        self.cust_data = pd.read_csv(self.path)\n",
    "    \n",
    "    def Clean_Data(self) :\n",
    "        #changing the datatype of column to datetime\n",
    "        self.cust_data['event_time'] = pd.to_datetime(self.cust_data['event_time'])\n",
    "        #Dropping unnecessary columns\n",
    "        self.cust_data.drop(['Unnamed: 0','event_count'],1,inplace=True)\n",
    "        #Considering only \"UI_OPEN_COUNT\" events\n",
    "        self.cust_data = self.cust_data[(self.cust_data['event_name'] == 'UI_OPEN_COUNT')]\n",
    "        #Changing the Datetime format to consider only Date\n",
    "        self.cust_data['event_time']  = self.cust_data['event_time'].map(pd.Timestamp.date)\n",
    "        #Dropping duplicated \n",
    "        self.cust_data = self.cust_data.drop_duplicates()\n",
    "        #Creating a new Column \"Rank\" \n",
    "        self.cust_data['Rank'] = self.cust_data.groupby(['user_id','os_name'])['event_time'].rank(ascending=True)\n",
    "    \n",
    "    def Calculate_Ret(self,start_date,End_date,OS_name = \"ALL\" , version = \"ALL\") :\n",
    "        temp_date = pd.to_datetime(start_date).date()\n",
    "        end_date = pd.to_datetime(End_date).date()\n",
    "        re_open = 0\n",
    "        total = 0\n",
    "        os_list = []\n",
    "        version_list = []\n",
    "\n",
    "\n",
    "        if OS_name == \"IOS\" :\n",
    "            os_list.append(OS_name)\n",
    "        elif OS_name == \"android\" :\n",
    "            os_list.append(OS_name)\n",
    "        elif OS_name == \"ALL\" :\n",
    "            os_list = [\"IOS\",\"android\"]\n",
    "        else :\n",
    "            print \"Incorrect OS Name\"\n",
    "\n",
    "        if version == \"1.4.4\" :\n",
    "            version_list.append(version)\n",
    "        elif version == \"1.7.0\" :\n",
    "            version_list.append(version)\n",
    "        elif version == \"1.7.5\" :\n",
    "            version_list.append(version)\n",
    "        elif version == \"ALL\" :\n",
    "            version_list = [\"1.4.4\",\"1.7.0\",\"1.7.5\"]\n",
    "        else :\n",
    "            print \"Incorrect Version\"\n",
    "        \n",
    "        self.cust_data.shape\n",
    "\n",
    "\n",
    "        while temp_date <=  end_date :\n",
    "            list_1 = list(self.cust_data[(self.cust_data['event_time'] == temp_date) & (self.cust_data['Rank'] == 1) \n",
    "                                & (self.cust_data['os_name'].isin(os_list)) & (self.cust_data['sdk_version'].isin(version_list))]['user_id'])\n",
    "            list_2 = list(self.cust_data[(self.cust_data['event_time'] == temp_date+timedelta(days=7))\n",
    "                                & (self.cust_data['os_name'].isin(os_list)) & (self.cust_data['sdk_version'].isin(version_list))]['user_id'])\n",
    "            re_open+= len(list(set(list_1).intersection(list_2)))\n",
    "            total+= len(list_1)\n",
    "            temp_date+= timedelta(days=1)\n",
    "        \n",
    "        if total > 0 :\n",
    "            percent = (float(re_open)/total)*100\n",
    "        else :\n",
    "            percent = 0.0\n",
    "        return format(percent,'.2f')+\" %\"\n",
    "\n",
    "        "
   ]
  },
  {
   "cell_type": "code",
   "execution_count": 85,
   "metadata": {
    "collapsed": true
   },
   "outputs": [],
   "source": [
    "data_obj = UI_Retention(r\"C:\\Users\\shaik\\Desktop\\Pra\\data.csv\")"
   ]
  },
  {
   "cell_type": "code",
   "execution_count": 86,
   "metadata": {
    "collapsed": true
   },
   "outputs": [],
   "source": [
    "data_obj.Read_CSV()"
   ]
  },
  {
   "cell_type": "code",
   "execution_count": 87,
   "metadata": {
    "collapsed": true
   },
   "outputs": [],
   "source": [
    "data_obj.Clean_Data()"
   ]
  },
  {
   "cell_type": "code",
   "execution_count": 88,
   "metadata": {
    "collapsed": false
   },
   "outputs": [
    {
     "data": {
      "text/plain": [
       "'17.96 %'"
      ]
     },
     "execution_count": 88,
     "metadata": {},
     "output_type": "execute_result"
    }
   ],
   "source": [
    "#What was the overall Day7 UI Retention over the month of September?\n",
    "data_obj.Calculate_Ret(start_date = '2014-09-01',End_date = '2014-09-30')"
   ]
  },
  {
   "cell_type": "code",
   "execution_count": 89,
   "metadata": {
    "collapsed": false
   },
   "outputs": [
    {
     "data": {
      "text/plain": [
       "'3.19 %'"
      ]
     },
     "execution_count": 89,
     "metadata": {},
     "output_type": "execute_result"
    }
   ],
   "source": [
    "#What was the Day7 UI Retention from September 8 through September 10 for the Android SDK?\n",
    "data_obj.Calculate_Ret(start_date = '2014-09-08',End_date = '2014-09-10',OS_name = 'android')"
   ]
  },
  {
   "cell_type": "code",
   "execution_count": 90,
   "metadata": {
    "collapsed": false
   },
   "outputs": [
    {
     "data": {
      "text/plain": [
       "'31.00 %'"
      ]
     },
     "execution_count": 90,
     "metadata": {},
     "output_type": "execute_result"
    }
   ],
   "source": [
    "#What was the Day7 UI Retention over the month of September for version 1.7.5 of the iOS SDK?\n",
    "data_obj.Calculate_Ret(start_date = '2014-09-01',End_date = '2014-09-30',OS_name = 'IOS',version='1.7.5')"
   ]
  },
  {
   "cell_type": "code",
   "execution_count": null,
   "metadata": {
    "collapsed": true
   },
   "outputs": [],
   "source": []
  }
 ],
 "metadata": {
  "kernelspec": {
   "display_name": "Python 2",
   "language": "python",
   "name": "python2"
  },
  "language_info": {
   "codemirror_mode": {
    "name": "ipython",
    "version": 2
   },
   "file_extension": ".py",
   "mimetype": "text/x-python",
   "name": "python",
   "nbconvert_exporter": "python",
   "pygments_lexer": "ipython2",
   "version": "2.7.9"
  }
 },
 "nbformat": 4,
 "nbformat_minor": 0
}
